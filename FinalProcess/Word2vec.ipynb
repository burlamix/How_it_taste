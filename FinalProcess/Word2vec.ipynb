{
 "cells": [
  {
   "cell_type": "code",
   "execution_count": 2,
   "metadata": {},
   "outputs": [],
   "source": [
    "import pandas as pd\n",
    "import numpy \n",
    "import gensim\n",
    "from gensim.test.utils import common_texts, get_tmpfile\n",
    "from gensim.models import Word2Vec"
   ]
  },
  {
   "cell_type": "markdown",
   "metadata": {},
   "source": [
    "#use RAW descriptions, only removing stopwords\n",
    "data = pd.read_csv(\"data/winemag-data-130k-v2.csv\")\n",
    "data.drop(columns=[\"Unnamed: 0\"],inplace=True)\n",
    "data = data.drop_duplicates([\"description\",\"price\",\"points\",\"taster_name\",\"title\"])\n",
    "print(len(data))\n",
    "data.drop([\"taster_twitter_handle\"],axis=1,inplace=True)\n",
    "avgPriceWinery = data.groupby(\"winery\")#.price.mean()\n",
    "#avgPriceWinery.get_group(\"1+1=3\").price.mean()\n",
    "data['price'] = data.apply(\n",
    "    lambda row: avgPriceWinery.get_group(row[\"winery\"]).price.mean() if pd.isnull(row['price']) else row['price'],\n",
    "    axis=1\n",
    ")\n",
    "data[\"price\"].fillna(data[\"price\"].mean(),inplace=True)\n",
    "\n",
    "#prende solo recensioni con autore conosciuto, ha senso come cosa?\n",
    "#data.dropna(subset=[\"taster_name\"],inplace=True)\n",
    "\n",
    "data.fillna(\"unknown\",inplace=True)\n",
    "data = data.groupby(\"country\").filter(lambda x: len(x)>600) \n",
    "data = data.reset_index(drop=True)"
   ]
  },
  {
   "cell_type": "code",
   "execution_count": 6,
   "metadata": {},
   "outputs": [],
   "source": [
    "data = pd.read_csv(\"Our_dataset/stemmed.csv\")\n",
    "#remove comment if you want to work with stemmed data\n",
    "from nltk.corpus import stopwords\n",
    "stop = stopwords.words('english')\n",
    "\n",
    "data[\"word_count\"] = data[\"description\"].apply(lambda x: len(str(x).split(\" \")))\n",
    "\n",
    "data[\"stopwords\"] = data[\"description\"].apply(lambda x: len([x for x in x.split() if x in stop]))"
   ]
  },
  {
   "cell_type": "code",
   "execution_count": null,
   "metadata": {},
   "outputs": [
    {
     "data": {
      "text/plain": [
       "117652"
      ]
     },
     "execution_count": 7,
     "metadata": {},
     "output_type": "execute_result"
    }
   ],
   "source": [
    "len(data)"
   ]
  },
  {
   "cell_type": "code",
   "execution_count": null,
   "metadata": {},
   "outputs": [],
   "source": [
    "sentences = []\n",
    "for idx,row in data.iterrows():\n",
    "    c = gensim.utils.simple_preprocess(row[\"description\"])  #apply a bit of preprocessing done automatically\n",
    "    sentences.append(c)"
   ]
  },
  {
   "cell_type": "code",
   "execution_count": null,
   "metadata": {},
   "outputs": [],
   "source": [
    "model = Word2Vec(sentences,size=100,window=10,min_count=2,workers=5)\n",
    "model.train(sentences, total_examples=len(sentences), epochs=10)"
   ]
  },
  {
   "cell_type": "code",
   "execution_count": null,
   "metadata": {},
   "outputs": [],
   "source": [
    "len(model.wv.vocab)"
   ]
  },
  {
   "cell_type": "code",
   "execution_count": null,
   "metadata": {},
   "outputs": [],
   "source": [
    "model.wv.vocab"
   ]
  },
  {
   "cell_type": "code",
   "execution_count": null,
   "metadata": {},
   "outputs": [],
   "source": [
    "model.wv.most_similar(positive = ['lemon'])"
   ]
  },
  {
   "cell_type": "code",
   "execution_count": null,
   "metadata": {},
   "outputs": [],
   "source": [
    "model.similarity(\"aroma\",\"dirt\")"
   ]
  },
  {
   "cell_type": "code",
   "execution_count": null,
   "metadata": {},
   "outputs": [],
   "source": [
    "%%time\n",
    "model.init_sims(replace=True)"
   ]
  },
  {
   "cell_type": "code",
   "execution_count": null,
   "metadata": {},
   "outputs": [],
   "source": [
    "temp = data[data[\"variety\"] == \"Pinot Gris\"]\n",
    "print(temp.iloc[2])\n",
    "print(temp.iloc[1])\n",
    "print(sentences[91],sentences[13409])\n",
    "distance = model.wmdistance(sentences[91], sentences[9])\n",
    "print(distance)"
   ]
  },
  {
   "cell_type": "code",
   "execution_count": null,
   "metadata": {},
   "outputs": [],
   "source": [
    "uniqueVars = data[\"variety\"].unique().tolist()\n",
    "uniqueVars"
   ]
  },
  {
   "cell_type": "code",
   "execution_count": null,
   "metadata": {},
   "outputs": [],
   "source": [
    "%%time\n",
    "canonDict = {}\n",
    "for el in uniqueVars:\n",
    "    temp = data[data[\"variety\"] == el] \n",
    "    els = temp.nlargest(3,\"points\")       #find the 3 best rated to look at their descriptions\n",
    "    temp1 = []\n",
    "    for idx,row in els.iterrows():\n",
    "        temp1.append(idx)\n",
    "    canonDict[el] = temp1\n"
   ]
  },
  {
   "cell_type": "code",
   "execution_count": null,
   "metadata": {},
   "outputs": [],
   "source": [
    "%%time\n",
    "canonDict"
   ]
  },
  {
   "cell_type": "code",
   "execution_count": null,
   "metadata": {},
   "outputs": [],
   "source": []
  },
  {
   "cell_type": "code",
   "execution_count": null,
   "metadata": {},
   "outputs": [],
   "source": [
    "%%time\n",
    "temp = []\n",
    "for idx,row in data.iterrows():\n",
    "    value = 0\n",
    "    c = canonDict[data.iloc[idx][\"variety\"]] \n",
    "    for i in c:\n",
    "        value = value + model.wmdistance(sentences[idx], sentences[i]) #use distance, so the lesser the distance, the more similar the values\n",
    "    value = value/len(c)  #didn't use similarity because measure could have been negative\n",
    "    print(idx)\n",
    "    temp.append(value)"
   ]
  },
  {
   "cell_type": "code",
   "execution_count": null,
   "metadata": {},
   "outputs": [],
   "source": [
    "data[\"similarityTop3WinesByVariety\"] = temp "
   ]
  },
  {
   "cell_type": "code",
   "execution_count": null,
   "metadata": {},
   "outputs": [],
   "source": [
    "data.drop([\"word_count\",\"stopwords\"],inplace=True,axis=1)"
   ]
  },
  {
   "cell_type": "code",
   "execution_count": null,
   "metadata": {},
   "outputs": [],
   "source": [
    "data.to_csv(\"StemmedWord2vecTop3.csv\", encoding='utf-8', index=False)"
   ]
  },
  {
   "cell_type": "code",
   "execution_count": null,
   "metadata": {},
   "outputs": [],
   "source": [
    "#pd.read_csv(\"StemmedWord2vecTop3.csv\")"
   ]
  }
 ],
 "metadata": {
  "kernelspec": {
   "display_name": "Python 3",
   "language": "python",
   "name": "python3"
  },
  "language_info": {
   "codemirror_mode": {
    "name": "ipython",
    "version": 3
   },
   "file_extension": ".py",
   "mimetype": "text/x-python",
   "name": "python",
   "nbconvert_exporter": "python",
   "pygments_lexer": "ipython3",
   "version": "3.6.5"
  }
 },
 "nbformat": 4,
 "nbformat_minor": 2
}
