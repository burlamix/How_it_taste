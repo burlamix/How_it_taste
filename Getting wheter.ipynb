{
 "cells": [
  {
   "cell_type": "code",
   "execution_count": 61,
   "metadata": {},
   "outputs": [],
   "source": [
    "import os\n",
    "import glob\n",
    "import pandas as pd\n",
    "import numpy as np\n",
    "import matplotlib.pyplot as plt\n",
    "%matplotlib inline"
   ]
  },
  {
   "cell_type": "code",
   "execution_count": 62,
   "metadata": {},
   "outputs": [],
   "source": [
    "df_rain = pd.read_csv(\"dataset/pr_1901_2015.csv\", index_col=0)\n",
    "df_temp = pd.read_csv(\"dataset/tas_1901_2015.csv\", index_col=0)\n",
    "#chose you dataset\n",
    "#wine_base = pd.read_csv(\"data/winemag-data-130k-v2.csv\", index_col=0)\n",
    "wine_base = pd.read_csv(\"stemmedData_tf_fullDataset_parsed.csv\", index_col=0)\n",
    "wine_base = wine_base.reset_index()"
   ]
  },
  {
   "cell_type": "code",
   "execution_count": 63,
   "metadata": {},
   "outputs": [],
   "source": [
    "#to speed up computation drop colum not used if your data is with that colum otherwise don't run"
   ]
  },
  {
   "cell_type": "code",
   "execution_count": 64,
   "metadata": {},
   "outputs": [
    {
     "data": {
      "text/html": [
       "<div>\n",
       "<style scoped>\n",
       "    .dataframe tbody tr th:only-of-type {\n",
       "        vertical-align: middle;\n",
       "    }\n",
       "\n",
       "    .dataframe tbody tr th {\n",
       "        vertical-align: top;\n",
       "    }\n",
       "\n",
       "    .dataframe thead th {\n",
       "        text-align: right;\n",
       "    }\n",
       "</style>\n",
       "<table border=\"1\" class=\"dataframe\">\n",
       "  <thead>\n",
       "    <tr style=\"text-align: right;\">\n",
       "      <th></th>\n",
       "      <th>country</th>\n",
       "      <th>description</th>\n",
       "      <th>designation</th>\n",
       "      <th>points</th>\n",
       "      <th>price</th>\n",
       "      <th>province</th>\n",
       "      <th>region_1</th>\n",
       "      <th>taster_name</th>\n",
       "      <th>title</th>\n",
       "      <th>variety</th>\n",
       "      <th>winery</th>\n",
       "      <th>new_1</th>\n",
       "      <th>new_2</th>\n",
       "      <th>new_3</th>\n",
       "    </tr>\n",
       "  </thead>\n",
       "  <tbody>\n",
       "    <tr>\n",
       "      <th>0</th>\n",
       "      <td>Italy</td>\n",
       "      <td>tropic broom brimston herb express appl citru ...</td>\n",
       "      <td>Vulkà Bianco</td>\n",
       "      <td>87</td>\n",
       "      <td>17.0</td>\n",
       "      <td>Sicily &amp; Sardinia</td>\n",
       "      <td>Etna</td>\n",
       "      <td>Kerin O’Keefe</td>\n",
       "      <td>Nicosia 2013 Vulkà Bianco  (Etna)</td>\n",
       "      <td>White Blend</td>\n",
       "      <td>Nicosia</td>\n",
       "      <td>0.018182</td>\n",
       "      <td>0.005882</td>\n",
       "      <td>0.000640</td>\n",
       "    </tr>\n",
       "    <tr>\n",
       "      <th>1</th>\n",
       "      <td>Portugal</td>\n",
       "      <td>fruiti firm juici red berri drinkabl</td>\n",
       "      <td>Avidagos</td>\n",
       "      <td>87</td>\n",
       "      <td>15.0</td>\n",
       "      <td>Douro</td>\n",
       "      <td>unknown</td>\n",
       "      <td>Roger Voss</td>\n",
       "      <td>Quinta dos Avidagos 2011 Avidagos Red (Douro)</td>\n",
       "      <td>Portuguese Red</td>\n",
       "      <td>Quinta dos Avidagos</td>\n",
       "      <td>0.001109</td>\n",
       "      <td>0.000117</td>\n",
       "      <td>0.000113</td>\n",
       "    </tr>\n",
       "  </tbody>\n",
       "</table>\n",
       "</div>"
      ],
      "text/plain": [
       "    country                                        description   designation  \\\n",
       "0     Italy  tropic broom brimston herb express appl citru ...  Vulkà Bianco   \n",
       "1  Portugal               fruiti firm juici red berri drinkabl      Avidagos   \n",
       "\n",
       "   points  price           province region_1    taster_name  \\\n",
       "0      87   17.0  Sicily & Sardinia     Etna  Kerin O’Keefe   \n",
       "1      87   15.0              Douro  unknown     Roger Voss   \n",
       "\n",
       "                                           title         variety  \\\n",
       "0              Nicosia 2013 Vulkà Bianco  (Etna)     White Blend   \n",
       "1  Quinta dos Avidagos 2011 Avidagos Red (Douro)  Portuguese Red   \n",
       "\n",
       "                winery     new_1     new_2     new_3  \n",
       "0              Nicosia  0.018182  0.005882  0.000640  \n",
       "1  Quinta dos Avidagos  0.001109  0.000117  0.000113  "
      ]
     },
     "execution_count": 64,
     "metadata": {},
     "output_type": "execute_result"
    }
   ],
   "source": [
    "wine_base.head(2)"
   ]
  },
  {
   "cell_type": "code",
   "execution_count": 65,
   "metadata": {},
   "outputs": [],
   "source": [
    "df_temp = df_temp.reset_index()\n",
    "df_rain = df_rain.reset_index()\n",
    "\n",
    "\n",
    "#deal with missing value\n",
    "wine_base = wine_base[wine_base.country != 'Serbia']\n",
    "wine_base = wine_base.dropna(subset=['country'])\n"
   ]
  },
  {
   "cell_type": "code",
   "execution_count": 66,
   "metadata": {},
   "outputs": [],
   "source": [
    "def state_sing(df):\n",
    "    df.loc[(df['Country'] == 'ITA'), 'Country'] = 'Italy'\n",
    "    df.loc[(df['Country'] == 'PRT'), 'Country'] = 'Portugal'\n",
    "    df.loc[(df['Country'] == 'USA'), 'Country'] = 'US'\n",
    "    df.loc[(df['Country'] == 'ESP'), 'Country'] = 'Spain'\n",
    "    df.loc[(df['Country'] == 'FRA'), 'Country'] = 'France'\n",
    "    df.loc[(df['Country'] == 'DEU'), 'Country'] = 'Germany'\n",
    "    df.loc[(df['Country'] == 'ARG'), 'Country'] = 'Argentina'\n",
    "    df.loc[(df['Country'] == 'CHL'), 'Country'] = 'Chile'\n",
    "    df.loc[(df['Country'] == 'AUS'), 'Country'] = 'Australia'\n",
    "    df.loc[(df['Country'] == 'AUT'), 'Country'] = 'Austria'\n",
    "    df.loc[(df['Country'] == 'ZAF'), 'Country'] = 'South Africa'\n",
    "    df.loc[(df['Country'] == 'NZL'), 'Country'] = 'New Zealand'\n",
    "    df.loc[(df['Country'] == 'ISR'), 'Country'] = 'Israel'\n",
    "    df.loc[(df['Country'] == 'HUN'), 'Country'] = 'Hungary'\n",
    "    df.loc[(df['Country'] == 'GRC'), 'Country'] = 'Greece'\n",
    "    df.loc[(df['Country'] == 'ROM'), 'Country'] = 'Romania'\n",
    "    df.loc[(df['Country'] == 'MEX'), 'Country'] = 'Mexico'\n",
    "    df.loc[(df['Country'] == 'CAN'), 'Country'] = 'Canada'\n",
    "    df.loc[(df['Country'] == 'TUR'), 'Country'] = 'Turkey'\n",
    "    df.loc[(df['Country'] == 'CZE'), 'Country'] = 'Czech Republic'\n",
    "    df.loc[(df['Country'] == 'SVN'), 'Country'] = 'Slovenia'\n",
    "    df.loc[(df['Country'] == 'LUX'), 'Country'] = 'Luxembourg'\n",
    "    df.loc[(df['Country'] == 'HRV'), 'Country'] = 'Croatia'\n",
    "    df.loc[(df['Country'] == 'GEO'), 'Country'] = 'Georgia'\n",
    "    df.loc[(df['Country'] == 'URY'), 'Country'] = 'Uruguay'\n",
    "    df.loc[(df['Country'] == 'GBR'), 'Country'] = 'England'\n",
    "    df.loc[(df['Country'] == 'LBN'), 'Country'] = 'Lebanon'\n",
    "    df.loc[(df['Country'] == 'YUG'), 'Country'] = 'Serbia'\n",
    "    df.loc[(df['Country'] == 'BRA'), 'Country'] = 'Brazil'\n",
    "    df.loc[(df['Country'] == 'MDA'), 'Country'] = 'Moldova'\n",
    "    df.loc[(df['Country'] == 'MAR'), 'Country'] = 'Morocco'\n",
    "    df.loc[(df['Country'] == 'PER'), 'Country'] = 'Peru'\n",
    "    df.loc[(df['Country'] == 'IND'), 'Country'] = 'India'\n",
    "    df.loc[(df['Country'] == 'BGR'), 'Country'] = 'Bulgaria'\n",
    "    df.loc[(df['Country'] == 'CYP'), 'Country'] = 'Cyprus'\n",
    "    df.loc[(df['Country'] == 'ARM'), 'Country'] = 'Armenia'\n",
    "    df.loc[(df['Country'] == 'CHE'), 'Country'] = 'Switzerland'\n",
    "    df.loc[(df['Country'] == 'BIH'), 'Country'] = 'Bosnia and Herzegovina'\n",
    "    df.loc[(df['Country'] == 'UKR'), 'Country'] = 'Ukraine'\n",
    "    df.loc[(df['Country'] == 'SVK'), 'Country'] = 'Slovakia'\n",
    "    df.loc[(df['Country'] == 'MKD'), 'Country'] = 'Macedonia'\n",
    "    df.loc[(df['Country'] == 'CHN'), 'Country'] = 'China'\n",
    "    df.loc[(df['Country'] == 'EGY'), 'Country'] = 'Egypt'\n",
    "    return df\n"
   ]
  },
  {
   "cell_type": "code",
   "execution_count": 67,
   "metadata": {},
   "outputs": [
    {
     "data": {
      "text/plain": [
       "['country',\n",
       " 'description',\n",
       " 'designation',\n",
       " 'points',\n",
       " 'price',\n",
       " 'province',\n",
       " 'region_1',\n",
       " 'taster_name',\n",
       " 'title',\n",
       " 'variety',\n",
       " 'winery',\n",
       " 'new_1',\n",
       " 'new_2',\n",
       " 'new_3']"
      ]
     },
     "execution_count": 67,
     "metadata": {},
     "output_type": "execute_result"
    }
   ],
   "source": [
    "list(wine_base)"
   ]
  },
  {
   "cell_type": "code",
   "execution_count": 68,
   "metadata": {},
   "outputs": [
    {
     "data": {
      "text/plain": [
       "array(['Italy', 'Portugal', 'US', 'Spain', 'France', 'Germany',\n",
       "       'Argentina', 'Chile', 'Australia', 'Austria', 'South Africa',\n",
       "       'New Zealand'], dtype=object)"
      ]
     },
     "execution_count": 68,
     "metadata": {},
     "output_type": "execute_result"
    }
   ],
   "source": [
    "wine_base.country.unique()"
   ]
  },
  {
   "cell_type": "code",
   "execution_count": 69,
   "metadata": {},
   "outputs": [],
   "source": [
    "#parse right state name"
   ]
  },
  {
   "cell_type": "code",
   "execution_count": 70,
   "metadata": {},
   "outputs": [],
   "source": [
    "df_temp=state_sing(df_temp)"
   ]
  },
  {
   "cell_type": "code",
   "execution_count": 71,
   "metadata": {},
   "outputs": [],
   "source": [
    "df_rain=state_sing(df_rain)"
   ]
  },
  {
   "cell_type": "code",
   "execution_count": 72,
   "metadata": {},
   "outputs": [
    {
     "data": {
      "text/plain": [
       "[]"
      ]
     },
     "execution_count": 72,
     "metadata": {},
     "output_type": "execute_result"
    }
   ],
   "source": [
    "#check if there all all nations\n",
    "[x for x in wine_base['country'].unique() if x not in df_rain['Country'].unique()]"
   ]
  },
  {
   "cell_type": "code",
   "execution_count": 73,
   "metadata": {},
   "outputs": [
    {
     "data": {
      "text/plain": [
       "array(['Italy', 'Portugal', 'US', 'Spain', 'France', 'Germany',\n",
       "       'Argentina', 'Chile', 'Australia', 'Austria', 'South Africa',\n",
       "       'New Zealand'], dtype=object)"
      ]
     },
     "execution_count": 73,
     "metadata": {},
     "output_type": "execute_result"
    }
   ],
   "source": [
    "wine_base.country.unique()"
   ]
  },
  {
   "cell_type": "code",
   "execution_count": 74,
   "metadata": {},
   "outputs": [
    {
     "data": {
      "text/plain": [
       "array(['Italy', 'Portugal', 'US', 'Spain', 'France', 'Germany',\n",
       "       'Argentina', 'Chile', 'Australia', 'Austria', 'South Africa',\n",
       "       'New Zealand'], dtype=object)"
      ]
     },
     "execution_count": 74,
     "metadata": {},
     "output_type": "execute_result"
    }
   ],
   "source": [
    "wine_base.country.unique()"
   ]
  },
  {
   "cell_type": "code",
   "execution_count": null,
   "metadata": {},
   "outputs": [],
   "source": []
  },
  {
   "cell_type": "code",
   "execution_count": 75,
   "metadata": {},
   "outputs": [],
   "source": [
    "#sort in a fast way to find \n",
    "#rain_d= rain_d.sort_values(by=['Year'])\n",
    "#rain_d= rain_d.iloc[::-1]"
   ]
  },
  {
   "cell_type": "code",
   "execution_count": null,
   "metadata": {},
   "outputs": [],
   "source": []
  },
  {
   "cell_type": "code",
   "execution_count": 76,
   "metadata": {},
   "outputs": [],
   "source": [
    "def cleanDataset_2(dataset,columns_to_drop):\n",
    "    df = dataset\n",
    "    df = df.drop(columns_to_drop,axis=1)\n",
    "    df = df[df.country.isnull()==False]\n",
    "    df = df[df.province.isnull()==False]\n",
    "    df = df[df.variety.isnull()==False]\n",
    "    df = df.drop_duplicates([\"description\",\"price\",\"points\",\"title\"])\n",
    "    #avgPriceWinery = df.groupby(\"winery\")#.price.mean()\n",
    "    #df['price'] = df.apply(lambda row: avgPriceWinery.get_group(row[\"winery\"]).price.mean()\n",
    "    #                       if pd.isnull(row['price']) else row['price'],axis=1)\n",
    "    #df[\"price\"].fillna(df[\"price\"].mean(),inplace=True) <-- policy of filling with the global mean\n",
    "\n",
    "    #prende solo recensioni con autore conosciuto, ha senso come cosa?\n",
    "    #data.dropna(subset=[\"taster_name\"],inplace=True)\n",
    "    #df = df.drop('description',axis=1)\n",
    "    #df.price.fillna(0,inplace=True)\n",
    "    #df['price']=df['price'].astype('int64')\n",
    "    df = df[df.price.isnull()==False]\n",
    "    df.fillna('unknown',inplace=True)\n",
    "    #df = df[df.price.isnull()==False]\n",
    "\n",
    "    return df"
   ]
  },
  {
   "cell_type": "code",
   "execution_count": 77,
   "metadata": {},
   "outputs": [],
   "source": [
    "useless_columns=[]\n"
   ]
  },
  {
   "cell_type": "code",
   "execution_count": 78,
   "metadata": {},
   "outputs": [],
   "source": [
    "df_2 = cleanDataset_2(wine_base,useless_columns)\n"
   ]
  },
  {
   "cell_type": "code",
   "execution_count": 79,
   "metadata": {},
   "outputs": [
    {
     "data": {
      "text/plain": [
       "array(['Italy', 'Portugal', 'US', 'Spain', 'France', 'Germany',\n",
       "       'Argentina', 'Chile', 'Australia', 'Austria', 'South Africa',\n",
       "       'New Zealand'], dtype=object)"
      ]
     },
     "execution_count": 79,
     "metadata": {},
     "output_type": "execute_result"
    }
   ],
   "source": [
    "wine_base.country.unique()"
   ]
  },
  {
   "cell_type": "code",
   "execution_count": 80,
   "metadata": {},
   "outputs": [
    {
     "data": {
      "text/html": [
       "<div>\n",
       "<style scoped>\n",
       "    .dataframe tbody tr th:only-of-type {\n",
       "        vertical-align: middle;\n",
       "    }\n",
       "\n",
       "    .dataframe tbody tr th {\n",
       "        vertical-align: top;\n",
       "    }\n",
       "\n",
       "    .dataframe thead th {\n",
       "        text-align: right;\n",
       "    }\n",
       "</style>\n",
       "<table border=\"1\" class=\"dataframe\">\n",
       "  <thead>\n",
       "    <tr style=\"text-align: right;\">\n",
       "      <th></th>\n",
       "      <th>country</th>\n",
       "      <th>description</th>\n",
       "      <th>designation</th>\n",
       "      <th>points</th>\n",
       "      <th>price</th>\n",
       "      <th>province</th>\n",
       "      <th>region_1</th>\n",
       "      <th>taster_name</th>\n",
       "      <th>title</th>\n",
       "      <th>variety</th>\n",
       "      <th>winery</th>\n",
       "      <th>new_1</th>\n",
       "      <th>new_2</th>\n",
       "      <th>new_3</th>\n",
       "      <th>vintage</th>\n",
       "    </tr>\n",
       "  </thead>\n",
       "  <tbody>\n",
       "    <tr>\n",
       "      <th>0</th>\n",
       "      <td>Italy</td>\n",
       "      <td>tropic broom brimston herb express appl citru ...</td>\n",
       "      <td>Vulkà Bianco</td>\n",
       "      <td>87</td>\n",
       "      <td>17.0</td>\n",
       "      <td>Sicily &amp; Sardinia</td>\n",
       "      <td>Etna</td>\n",
       "      <td>Kerin O’Keefe</td>\n",
       "      <td>Nicosia 2013 Vulkà Bianco  (Etna)</td>\n",
       "      <td>White Blend</td>\n",
       "      <td>Nicosia</td>\n",
       "      <td>0.018182</td>\n",
       "      <td>0.005882</td>\n",
       "      <td>0.000640</td>\n",
       "      <td>2013</td>\n",
       "    </tr>\n",
       "    <tr>\n",
       "      <th>1</th>\n",
       "      <td>Portugal</td>\n",
       "      <td>fruiti firm juici red berri drinkabl</td>\n",
       "      <td>Avidagos</td>\n",
       "      <td>87</td>\n",
       "      <td>15.0</td>\n",
       "      <td>Douro</td>\n",
       "      <td>unknown</td>\n",
       "      <td>Roger Voss</td>\n",
       "      <td>Quinta dos Avidagos 2011 Avidagos Red (Douro)</td>\n",
       "      <td>Portuguese Red</td>\n",
       "      <td>Quinta dos Avidagos</td>\n",
       "      <td>0.001109</td>\n",
       "      <td>0.000117</td>\n",
       "      <td>0.000113</td>\n",
       "      <td>2011</td>\n",
       "    </tr>\n",
       "    <tr>\n",
       "      <th>2</th>\n",
       "      <td>US</td>\n",
       "      <td>tart snappi lime flesh domin green pineappl po...</td>\n",
       "      <td>unknown</td>\n",
       "      <td>87</td>\n",
       "      <td>14.0</td>\n",
       "      <td>Oregon</td>\n",
       "      <td>Willamette Valley</td>\n",
       "      <td>Paul Gregutt</td>\n",
       "      <td>Rainstorm 2013 Pinot Gris (Willamette Valley)</td>\n",
       "      <td>Pinot Gris</td>\n",
       "      <td>Rainstorm</td>\n",
       "      <td>0.066667</td>\n",
       "      <td>0.010204</td>\n",
       "      <td>0.002160</td>\n",
       "      <td>2013</td>\n",
       "    </tr>\n",
       "    <tr>\n",
       "      <th>3</th>\n",
       "      <td>US</td>\n",
       "      <td>pineappl rind lemon pith orang blossom opul no...</td>\n",
       "      <td>Reserve Late Harvest</td>\n",
       "      <td>87</td>\n",
       "      <td>13.0</td>\n",
       "      <td>Michigan</td>\n",
       "      <td>Lake Michigan Shore</td>\n",
       "      <td>Alexander Peartree</td>\n",
       "      <td>St. Julian 2013 Reserve Late Harvest Riesling ...</td>\n",
       "      <td>Riesling</td>\n",
       "      <td>St. Julian</td>\n",
       "      <td>0.009709</td>\n",
       "      <td>0.002639</td>\n",
       "      <td>0.001767</td>\n",
       "      <td>2013</td>\n",
       "    </tr>\n",
       "    <tr>\n",
       "      <th>4</th>\n",
       "      <td>US</td>\n",
       "      <td>much regular bottl rough tannic rustic earthi ...</td>\n",
       "      <td>Vintner's Reserve Wild Child Block</td>\n",
       "      <td>87</td>\n",
       "      <td>65.0</td>\n",
       "      <td>Oregon</td>\n",
       "      <td>Willamette Valley</td>\n",
       "      <td>Paul Gregutt</td>\n",
       "      <td>Sweet Cheeks 2012 Vintner's Reserve Wild Child...</td>\n",
       "      <td>Pinot Noir</td>\n",
       "      <td>Sweet Cheeks</td>\n",
       "      <td>0.026316</td>\n",
       "      <td>0.013333</td>\n",
       "      <td>0.007576</td>\n",
       "      <td>2012</td>\n",
       "    </tr>\n",
       "  </tbody>\n",
       "</table>\n",
       "</div>"
      ],
      "text/plain": [
       "    country                                        description  \\\n",
       "0     Italy  tropic broom brimston herb express appl citru ...   \n",
       "1  Portugal               fruiti firm juici red berri drinkabl   \n",
       "2        US  tart snappi lime flesh domin green pineappl po...   \n",
       "3        US  pineappl rind lemon pith orang blossom opul no...   \n",
       "4        US  much regular bottl rough tannic rustic earthi ...   \n",
       "\n",
       "                          designation  points  price           province  \\\n",
       "0                        Vulkà Bianco      87   17.0  Sicily & Sardinia   \n",
       "1                            Avidagos      87   15.0              Douro   \n",
       "2                             unknown      87   14.0             Oregon   \n",
       "3                Reserve Late Harvest      87   13.0           Michigan   \n",
       "4  Vintner's Reserve Wild Child Block      87   65.0             Oregon   \n",
       "\n",
       "              region_1         taster_name  \\\n",
       "0                 Etna       Kerin O’Keefe   \n",
       "1              unknown          Roger Voss   \n",
       "2    Willamette Valley        Paul Gregutt   \n",
       "3  Lake Michigan Shore  Alexander Peartree   \n",
       "4    Willamette Valley        Paul Gregutt   \n",
       "\n",
       "                                               title         variety  \\\n",
       "0                  Nicosia 2013 Vulkà Bianco  (Etna)     White Blend   \n",
       "1      Quinta dos Avidagos 2011 Avidagos Red (Douro)  Portuguese Red   \n",
       "2      Rainstorm 2013 Pinot Gris (Willamette Valley)      Pinot Gris   \n",
       "3  St. Julian 2013 Reserve Late Harvest Riesling ...        Riesling   \n",
       "4  Sweet Cheeks 2012 Vintner's Reserve Wild Child...      Pinot Noir   \n",
       "\n",
       "                winery     new_1     new_2     new_3  vintage  \n",
       "0              Nicosia  0.018182  0.005882  0.000640     2013  \n",
       "1  Quinta dos Avidagos  0.001109  0.000117  0.000113     2011  \n",
       "2            Rainstorm  0.066667  0.010204  0.002160     2013  \n",
       "3           St. Julian  0.009709  0.002639  0.001767     2013  \n",
       "4         Sweet Cheeks  0.026316  0.013333  0.007576     2012  "
      ]
     },
     "execution_count": 80,
     "metadata": {},
     "output_type": "execute_result"
    }
   ],
   "source": [
    "import re\n",
    "pattern = r\"\\d{4}\"\n",
    "vintages = []\n",
    "for elem in df_2.title:\n",
    "    match = re.findall(pattern,elem)\n",
    "    year = 0\n",
    "    if len(match)>1:\n",
    "        y= int(match[0])\n",
    "        if y <1952:\n",
    "            year = 0\n",
    "        elif y==3000:\n",
    "            year == 2009\n",
    "        elif y == 7200:\n",
    "            year = int(match[1])\n",
    "        else:\n",
    "            year= y\n",
    "    elif len(match)==1:\n",
    "        y= int(match[0])\n",
    "        if y <1952:\n",
    "            year = 0\n",
    "        elif y==3000:\n",
    "            year == 2009\n",
    "        elif year == 7200:\n",
    "            year = 0\n",
    "        else:\n",
    "            year = y\n",
    "    else:\n",
    "        year = 0\n",
    "    vintages.append(year)\n",
    "\n",
    "se = pd.Series(vintages)\n",
    "df_2['vintage']=se.values \n",
    "df_2.drop('title',axis=1)\n",
    "df_2.head(5)"
   ]
  },
  {
   "cell_type": "code",
   "execution_count": 81,
   "metadata": {},
   "outputs": [],
   "source": [
    "#drop reviwe of wine with ventage =0\n",
    "df_2 = df_2[df_2.vintage != 0]\n",
    "df_2 = df_2[df_2.vintage != 2017]\n",
    "df_2 = df_2[df_2.vintage != 2016]\n",
    "\n",
    "#delete wine where there is no wheter info"
   ]
  },
  {
   "cell_type": "code",
   "execution_count": null,
   "metadata": {},
   "outputs": [],
   "source": []
  },
  {
   "cell_type": "code",
   "execution_count": null,
   "metadata": {},
   "outputs": [],
   "source": []
  },
  {
   "cell_type": "code",
   "execution_count": 82,
   "metadata": {},
   "outputs": [
    {
     "data": {
      "text/html": [
       "<div>\n",
       "<style scoped>\n",
       "    .dataframe tbody tr th:only-of-type {\n",
       "        vertical-align: middle;\n",
       "    }\n",
       "\n",
       "    .dataframe tbody tr th {\n",
       "        vertical-align: top;\n",
       "    }\n",
       "\n",
       "    .dataframe thead th {\n",
       "        text-align: right;\n",
       "    }\n",
       "</style>\n",
       "<table border=\"1\" class=\"dataframe\">\n",
       "  <thead>\n",
       "    <tr style=\"text-align: right;\">\n",
       "      <th></th>\n",
       "      <th>country</th>\n",
       "      <th>description</th>\n",
       "      <th>designation</th>\n",
       "      <th>points</th>\n",
       "      <th>price</th>\n",
       "      <th>province</th>\n",
       "      <th>region_1</th>\n",
       "      <th>taster_name</th>\n",
       "      <th>title</th>\n",
       "      <th>variety</th>\n",
       "      <th>winery</th>\n",
       "      <th>new_1</th>\n",
       "      <th>new_2</th>\n",
       "      <th>new_3</th>\n",
       "      <th>vintage</th>\n",
       "    </tr>\n",
       "  </thead>\n",
       "  <tbody>\n",
       "    <tr>\n",
       "      <th>0</th>\n",
       "      <td>Italy</td>\n",
       "      <td>tropic broom brimston herb express appl citru ...</td>\n",
       "      <td>Vulkà Bianco</td>\n",
       "      <td>87</td>\n",
       "      <td>17.0</td>\n",
       "      <td>Sicily &amp; Sardinia</td>\n",
       "      <td>Etna</td>\n",
       "      <td>Kerin O’Keefe</td>\n",
       "      <td>Nicosia 2013 Vulkà Bianco  (Etna)</td>\n",
       "      <td>White Blend</td>\n",
       "      <td>Nicosia</td>\n",
       "      <td>0.018182</td>\n",
       "      <td>0.005882</td>\n",
       "      <td>0.000640</td>\n",
       "      <td>2013</td>\n",
       "    </tr>\n",
       "    <tr>\n",
       "      <th>1</th>\n",
       "      <td>Portugal</td>\n",
       "      <td>fruiti firm juici red berri drinkabl</td>\n",
       "      <td>Avidagos</td>\n",
       "      <td>87</td>\n",
       "      <td>15.0</td>\n",
       "      <td>Douro</td>\n",
       "      <td>unknown</td>\n",
       "      <td>Roger Voss</td>\n",
       "      <td>Quinta dos Avidagos 2011 Avidagos Red (Douro)</td>\n",
       "      <td>Portuguese Red</td>\n",
       "      <td>Quinta dos Avidagos</td>\n",
       "      <td>0.001109</td>\n",
       "      <td>0.000117</td>\n",
       "      <td>0.000113</td>\n",
       "      <td>2011</td>\n",
       "    </tr>\n",
       "  </tbody>\n",
       "</table>\n",
       "</div>"
      ],
      "text/plain": [
       "    country                                        description   designation  \\\n",
       "0     Italy  tropic broom brimston herb express appl citru ...  Vulkà Bianco   \n",
       "1  Portugal               fruiti firm juici red berri drinkabl      Avidagos   \n",
       "\n",
       "   points  price           province region_1    taster_name  \\\n",
       "0      87   17.0  Sicily & Sardinia     Etna  Kerin O’Keefe   \n",
       "1      87   15.0              Douro  unknown     Roger Voss   \n",
       "\n",
       "                                           title         variety  \\\n",
       "0              Nicosia 2013 Vulkà Bianco  (Etna)     White Blend   \n",
       "1  Quinta dos Avidagos 2011 Avidagos Red (Douro)  Portuguese Red   \n",
       "\n",
       "                winery     new_1     new_2     new_3  vintage  \n",
       "0              Nicosia  0.018182  0.005882  0.000640     2013  \n",
       "1  Quinta dos Avidagos  0.001109  0.000117  0.000113     2011  "
      ]
     },
     "execution_count": 82,
     "metadata": {},
     "output_type": "execute_result"
    }
   ],
   "source": [
    "df_2.head(2)"
   ]
  },
  {
   "cell_type": "code",
   "execution_count": null,
   "metadata": {},
   "outputs": [],
   "source": []
  },
  {
   "cell_type": "code",
   "execution_count": 83,
   "metadata": {},
   "outputs": [],
   "source": [
    "a = df_2['vintage'].unique() "
   ]
  },
  {
   "cell_type": "code",
   "execution_count": 84,
   "metadata": {},
   "outputs": [],
   "source": [
    "#take only the correct month and the year that are in the wine dataset \n",
    "df_rain_filtered = df_rain[(df_rain['Year'].isin(a)) & (df_rain['Month'].isin([5,6,7,8,9])) ]\n",
    "df_temp_filtered = df_temp[(df_temp['Year'].isin(a)) & (df_temp['Month'].isin([5,6,7,8,9])) ]\n"
   ]
  },
  {
   "cell_type": "code",
   "execution_count": null,
   "metadata": {},
   "outputs": [],
   "source": []
  },
  {
   "cell_type": "code",
   "execution_count": 85,
   "metadata": {},
   "outputs": [],
   "source": [
    "df_2 = df_2.set_index(['vintage','country'])\n",
    "df_2= df_2.sort_index()\n"
   ]
  },
  {
   "cell_type": "code",
   "execution_count": 86,
   "metadata": {},
   "outputs": [],
   "source": [
    "#new colum"
   ]
  },
  {
   "cell_type": "code",
   "execution_count": 87,
   "metadata": {},
   "outputs": [],
   "source": [
    "df_2['pr_5']=0\n",
    "df_2['pr_6']=0\n",
    "df_2['pr_7']=0\n",
    "df_2['pr_8']=0\n",
    "df_2['pr_9']=0\n",
    "\n",
    "df_2['tas_5']=0\n",
    "df_2['tas_6']=0\n",
    "df_2['tas_7']=0\n",
    "df_2['tas_8']=0\n",
    "df_2['tas_9']=0"
   ]
  },
  {
   "cell_type": "code",
   "execution_count": 88,
   "metadata": {},
   "outputs": [
    {
     "data": {
      "text/html": [
       "<div>\n",
       "<style scoped>\n",
       "    .dataframe tbody tr th:only-of-type {\n",
       "        vertical-align: middle;\n",
       "    }\n",
       "\n",
       "    .dataframe tbody tr th {\n",
       "        vertical-align: top;\n",
       "    }\n",
       "\n",
       "    .dataframe thead th {\n",
       "        text-align: right;\n",
       "    }\n",
       "</style>\n",
       "<table border=\"1\" class=\"dataframe\">\n",
       "  <thead>\n",
       "    <tr style=\"text-align: right;\">\n",
       "      <th></th>\n",
       "      <th></th>\n",
       "      <th>description</th>\n",
       "      <th>designation</th>\n",
       "      <th>points</th>\n",
       "      <th>price</th>\n",
       "      <th>province</th>\n",
       "      <th>region_1</th>\n",
       "      <th>taster_name</th>\n",
       "      <th>title</th>\n",
       "      <th>variety</th>\n",
       "      <th>winery</th>\n",
       "      <th>...</th>\n",
       "      <th>pr_5</th>\n",
       "      <th>pr_6</th>\n",
       "      <th>pr_7</th>\n",
       "      <th>pr_8</th>\n",
       "      <th>pr_9</th>\n",
       "      <th>tas_5</th>\n",
       "      <th>tas_6</th>\n",
       "      <th>tas_7</th>\n",
       "      <th>tas_8</th>\n",
       "      <th>tas_9</th>\n",
       "    </tr>\n",
       "    <tr>\n",
       "      <th>vintage</th>\n",
       "      <th>country</th>\n",
       "      <th></th>\n",
       "      <th></th>\n",
       "      <th></th>\n",
       "      <th></th>\n",
       "      <th></th>\n",
       "      <th></th>\n",
       "      <th></th>\n",
       "      <th></th>\n",
       "      <th></th>\n",
       "      <th></th>\n",
       "      <th></th>\n",
       "      <th></th>\n",
       "      <th></th>\n",
       "      <th></th>\n",
       "      <th></th>\n",
       "      <th></th>\n",
       "      <th></th>\n",
       "      <th></th>\n",
       "      <th></th>\n",
       "      <th></th>\n",
       "      <th></th>\n",
       "    </tr>\n",
       "  </thead>\n",
       "  <tbody>\n",
       "    <tr>\n",
       "      <th rowspan=\"2\" valign=\"top\">1952</th>\n",
       "      <th>Portugal</th>\n",
       "      <td>year ii oak deep oldgold color rich sweet wood...</td>\n",
       "      <td>Porto Envelhecido em Casco Colheita</td>\n",
       "      <td>95</td>\n",
       "      <td>499.0</td>\n",
       "      <td>Port</td>\n",
       "      <td>unknown</td>\n",
       "      <td>Roger Voss</td>\n",
       "      <td>Messias 1952 Porto Envelhecido em Casco Colhei...</td>\n",
       "      <td>Port</td>\n",
       "      <td>Messias</td>\n",
       "      <td>...</td>\n",
       "      <td>0</td>\n",
       "      <td>0</td>\n",
       "      <td>0</td>\n",
       "      <td>0</td>\n",
       "      <td>0</td>\n",
       "      <td>0</td>\n",
       "      <td>0</td>\n",
       "      <td>0</td>\n",
       "      <td>0</td>\n",
       "      <td>0</td>\n",
       "    </tr>\n",
       "    <tr>\n",
       "      <th>Portugal</th>\n",
       "      <td>astonish age rich toffe warm intens concentr d...</td>\n",
       "      <td>Colheita Tawny</td>\n",
       "      <td>96</td>\n",
       "      <td>415.0</td>\n",
       "      <td>Port</td>\n",
       "      <td>unknown</td>\n",
       "      <td>Roger Voss</td>\n",
       "      <td>Burmester 1952 Colheita Tawny  (Port)</td>\n",
       "      <td>Port</td>\n",
       "      <td>Burmester</td>\n",
       "      <td>...</td>\n",
       "      <td>0</td>\n",
       "      <td>0</td>\n",
       "      <td>0</td>\n",
       "      <td>0</td>\n",
       "      <td>0</td>\n",
       "      <td>0</td>\n",
       "      <td>0</td>\n",
       "      <td>0</td>\n",
       "      <td>0</td>\n",
       "      <td>0</td>\n",
       "    </tr>\n",
       "  </tbody>\n",
       "</table>\n",
       "<p>2 rows × 23 columns</p>\n",
       "</div>"
      ],
      "text/plain": [
       "                                                        description  \\\n",
       "vintage country                                                       \n",
       "1952    Portugal  year ii oak deep oldgold color rich sweet wood...   \n",
       "        Portugal  astonish age rich toffe warm intens concentr d...   \n",
       "\n",
       "                                          designation  points  price province  \\\n",
       "vintage country                                                                 \n",
       "1952    Portugal  Porto Envelhecido em Casco Colheita      95  499.0     Port   \n",
       "        Portugal                       Colheita Tawny      96  415.0     Port   \n",
       "\n",
       "                 region_1 taster_name  \\\n",
       "vintage country                         \n",
       "1952    Portugal  unknown  Roger Voss   \n",
       "        Portugal  unknown  Roger Voss   \n",
       "\n",
       "                                                              title variety  \\\n",
       "vintage country                                                               \n",
       "1952    Portugal  Messias 1952 Porto Envelhecido em Casco Colhei...    Port   \n",
       "        Portugal              Burmester 1952 Colheita Tawny  (Port)    Port   \n",
       "\n",
       "                     winery  ...    pr_5  pr_6  pr_7  pr_8  pr_9  tas_5  \\\n",
       "vintage country              ...                                          \n",
       "1952    Portugal    Messias  ...       0     0     0     0     0      0   \n",
       "        Portugal  Burmester  ...       0     0     0     0     0      0   \n",
       "\n",
       "                  tas_6  tas_7  tas_8  tas_9  \n",
       "vintage country                               \n",
       "1952    Portugal      0      0      0      0  \n",
       "        Portugal      0      0      0      0  \n",
       "\n",
       "[2 rows x 23 columns]"
      ]
     },
     "execution_count": 88,
     "metadata": {},
     "output_type": "execute_result"
    }
   ],
   "source": [
    "df_2.head(2)"
   ]
  },
  {
   "cell_type": "code",
   "execution_count": 89,
   "metadata": {},
   "outputs": [],
   "source": [
    "#this is heavy\n",
    "#the match the wheter with the dataset"
   ]
  },
  {
   "cell_type": "code",
   "execution_count": null,
   "metadata": {},
   "outputs": [],
   "source": []
  },
  {
   "cell_type": "code",
   "execution_count": 90,
   "metadata": {},
   "outputs": [
    {
     "data": {
      "text/plain": [
       "3.068673813809192"
      ]
     },
     "execution_count": 90,
     "metadata": {},
     "output_type": "execute_result"
    }
   ],
   "source": [
    "xxxx=df_2\n",
    "X = xxxx.loc[:,['new_1','new_2','new_3']]\n",
    "Y=xxxx['points'].values\n",
    "X_train, X_test, y_train, y_test = train_test_split(X, Y, test_size=0.20, random_state=42)\n",
    "lr = LinearRegression()\n",
    "lr.fit(X_train, y_train)\n",
    "y_test_pred = lr.predict(X_test)\n",
    "mse = mean_squared_error(y_test, y_test_pred)\n",
    "rmse = np.sqrt(mse)\n",
    "rmse"
   ]
  },
  {
   "cell_type": "code",
   "execution_count": 91,
   "metadata": {},
   "outputs": [],
   "source": [
    "for index, row in df_rain_filtered.iterrows(): \n",
    "    try:\n",
    "        df_2.loc[[[row['Year'],row['Country']]],'pr_'+str(row['Month'])] = row['pr']\n",
    "        pass\n",
    "    except KeyError:\n",
    "        #if there is no wine in that cantry in that year\n",
    "        pass"
   ]
  },
  {
   "cell_type": "code",
   "execution_count": 92,
   "metadata": {},
   "outputs": [],
   "source": [
    "for index, row in df_temp_filtered.iterrows(): \n",
    "    try:\n",
    "        df_2.loc[[[row['Year'],row['Country']]],'tas_'+str(row['Month'])] = row['tas']\n",
    "        pass\n",
    "    except KeyError:\n",
    "        #if there is no wine in that cantry in that year\n",
    "        pass"
   ]
  },
  {
   "cell_type": "code",
   "execution_count": 93,
   "metadata": {},
   "outputs": [
    {
     "data": {
      "text/plain": [
       "3.068673813809192"
      ]
     },
     "execution_count": 93,
     "metadata": {},
     "output_type": "execute_result"
    }
   ],
   "source": [
    "xxxx=df_2\n",
    "X = xxxx.loc[:,['new_1','new_2','new_3']]\n",
    "Y=xxxx['points'].values\n",
    "X_train, X_test, y_train, y_test = train_test_split(X, Y, test_size=0.20, random_state=42)\n",
    "lr = LinearRegression()\n",
    "lr.fit(X_train, y_train)\n",
    "y_test_pred = lr.predict(X_test)\n",
    "mse = mean_squared_error(y_test, y_test_pred)\n",
    "rmse = np.sqrt(mse)\n",
    "rmse"
   ]
  },
  {
   "cell_type": "code",
   "execution_count": 94,
   "metadata": {},
   "outputs": [
    {
     "data": {
      "text/html": [
       "<div>\n",
       "<style scoped>\n",
       "    .dataframe tbody tr th:only-of-type {\n",
       "        vertical-align: middle;\n",
       "    }\n",
       "\n",
       "    .dataframe tbody tr th {\n",
       "        vertical-align: top;\n",
       "    }\n",
       "\n",
       "    .dataframe thead th {\n",
       "        text-align: right;\n",
       "    }\n",
       "</style>\n",
       "<table border=\"1\" class=\"dataframe\">\n",
       "  <thead>\n",
       "    <tr style=\"text-align: right;\">\n",
       "      <th></th>\n",
       "      <th>vintage</th>\n",
       "      <th>country</th>\n",
       "      <th>description</th>\n",
       "      <th>designation</th>\n",
       "      <th>points</th>\n",
       "      <th>price</th>\n",
       "      <th>province</th>\n",
       "      <th>region_1</th>\n",
       "      <th>taster_name</th>\n",
       "      <th>title</th>\n",
       "      <th>...</th>\n",
       "      <th>pr_5</th>\n",
       "      <th>pr_6</th>\n",
       "      <th>pr_7</th>\n",
       "      <th>pr_8</th>\n",
       "      <th>pr_9</th>\n",
       "      <th>tas_5</th>\n",
       "      <th>tas_6</th>\n",
       "      <th>tas_7</th>\n",
       "      <th>tas_8</th>\n",
       "      <th>tas_9</th>\n",
       "    </tr>\n",
       "  </thead>\n",
       "  <tbody>\n",
       "    <tr>\n",
       "      <th>0</th>\n",
       "      <td>1952</td>\n",
       "      <td>Portugal</td>\n",
       "      <td>year ii oak deep oldgold color rich sweet wood...</td>\n",
       "      <td>Porto Envelhecido em Casco Colheita</td>\n",
       "      <td>95</td>\n",
       "      <td>499.0</td>\n",
       "      <td>Port</td>\n",
       "      <td>unknown</td>\n",
       "      <td>Roger Voss</td>\n",
       "      <td>Messias 1952 Porto Envelhecido em Casco Colhei...</td>\n",
       "      <td>...</td>\n",
       "      <td>120.181</td>\n",
       "      <td>54.8968</td>\n",
       "      <td>13.3656</td>\n",
       "      <td>12.3677</td>\n",
       "      <td>71.6485</td>\n",
       "      <td>16.0018</td>\n",
       "      <td>20.1771</td>\n",
       "      <td>21.6355</td>\n",
       "      <td>21.3967</td>\n",
       "      <td>18.5723</td>\n",
       "    </tr>\n",
       "    <tr>\n",
       "      <th>1</th>\n",
       "      <td>1952</td>\n",
       "      <td>Portugal</td>\n",
       "      <td>astonish age rich toffe warm intens concentr d...</td>\n",
       "      <td>Colheita Tawny</td>\n",
       "      <td>96</td>\n",
       "      <td>415.0</td>\n",
       "      <td>Port</td>\n",
       "      <td>unknown</td>\n",
       "      <td>Roger Voss</td>\n",
       "      <td>Burmester 1952 Colheita Tawny  (Port)</td>\n",
       "      <td>...</td>\n",
       "      <td>120.181</td>\n",
       "      <td>54.8968</td>\n",
       "      <td>13.3656</td>\n",
       "      <td>12.3677</td>\n",
       "      <td>71.6485</td>\n",
       "      <td>16.0018</td>\n",
       "      <td>20.1771</td>\n",
       "      <td>21.6355</td>\n",
       "      <td>21.3967</td>\n",
       "      <td>18.5723</td>\n",
       "    </tr>\n",
       "  </tbody>\n",
       "</table>\n",
       "<p>2 rows × 25 columns</p>\n",
       "</div>"
      ],
      "text/plain": [
       "   vintage   country                                        description  \\\n",
       "0     1952  Portugal  year ii oak deep oldgold color rich sweet wood...   \n",
       "1     1952  Portugal  astonish age rich toffe warm intens concentr d...   \n",
       "\n",
       "                           designation  points  price province region_1  \\\n",
       "0  Porto Envelhecido em Casco Colheita      95  499.0     Port  unknown   \n",
       "1                       Colheita Tawny      96  415.0     Port  unknown   \n",
       "\n",
       "  taster_name                                              title   ...     \\\n",
       "0  Roger Voss  Messias 1952 Porto Envelhecido em Casco Colhei...   ...      \n",
       "1  Roger Voss              Burmester 1952 Colheita Tawny  (Port)   ...      \n",
       "\n",
       "      pr_5     pr_6     pr_7     pr_8     pr_9    tas_5    tas_6    tas_7  \\\n",
       "0  120.181  54.8968  13.3656  12.3677  71.6485  16.0018  20.1771  21.6355   \n",
       "1  120.181  54.8968  13.3656  12.3677  71.6485  16.0018  20.1771  21.6355   \n",
       "\n",
       "     tas_8    tas_9  \n",
       "0  21.3967  18.5723  \n",
       "1  21.3967  18.5723  \n",
       "\n",
       "[2 rows x 25 columns]"
      ]
     },
     "execution_count": 94,
     "metadata": {},
     "output_type": "execute_result"
    }
   ],
   "source": [
    "df_2 = df_2.reset_index()\n",
    "df_2.head(2)"
   ]
  },
  {
   "cell_type": "code",
   "execution_count": null,
   "metadata": {},
   "outputs": [],
   "source": []
  },
  {
   "cell_type": "code",
   "execution_count": null,
   "metadata": {},
   "outputs": [],
   "source": [
    "\n",
    "\n"
   ]
  },
  {
   "cell_type": "code",
   "execution_count": 95,
   "metadata": {},
   "outputs": [],
   "source": [
    "#label each colum that you want to use\n",
    "\n",
    "from sklearn.preprocessing import LabelBinarizer\n",
    "lb = LabelBinarizer()\n",
    "\n",
    "df_2[\"province\"] = df_2[\"province\"].astype('category').cat.codes\n",
    "df_2[\"country\"] = df_2[\"country\"].astype('category').cat.codes\n",
    "df_2[\"taster_name\"] = df_2[\"taster_name\"].astype('category').cat.codes\n",
    "df_2[\"winery\"] = df_2[\"winery\"].astype('category').cat.codes\n",
    "df_2[\"region_1\"] = df_2[\"region_1\"].astype('category').cat.codes\n",
    "df_2[\"variety\"] = df_2[\"variety\"].astype('category').cat.codes\n",
    "\n",
    "\n"
   ]
  },
  {
   "cell_type": "code",
   "execution_count": 96,
   "metadata": {},
   "outputs": [
    {
     "data": {
      "text/plain": [
       "3.068673813809192"
      ]
     },
     "execution_count": 96,
     "metadata": {},
     "output_type": "execute_result"
    }
   ],
   "source": [
    "xxxx=df_2\n",
    "X = xxxx.loc[:,['new_1','new_2','new_3']]\n",
    "Y=xxxx['points'].values\n",
    "X_train, X_test, y_train, y_test = train_test_split(X, Y, test_size=0.20, random_state=42)\n",
    "lr = LinearRegression()\n",
    "lr.fit(X_train, y_train)\n",
    "y_test_pred = lr.predict(X_test)\n",
    "mse = mean_squared_error(y_test, y_test_pred)\n",
    "rmse = np.sqrt(mse)\n",
    "rmse"
   ]
  },
  {
   "cell_type": "code",
   "execution_count": 109,
   "metadata": {},
   "outputs": [],
   "source": [
    "#drop some colum\n",
    "df_2= df_2.drop(['designation','region_1','title'], axis=1)"
   ]
  },
  {
   "cell_type": "code",
   "execution_count": null,
   "metadata": {},
   "outputs": [],
   "source": []
  },
  {
   "cell_type": "code",
   "execution_count": null,
   "metadata": {},
   "outputs": [],
   "source": []
  },
  {
   "cell_type": "code",
   "execution_count": null,
   "metadata": {},
   "outputs": [],
   "source": []
  },
  {
   "cell_type": "code",
   "execution_count": null,
   "metadata": {},
   "outputs": [],
   "source": []
  },
  {
   "cell_type": "code",
   "execution_count": 107,
   "metadata": {},
   "outputs": [],
   "source": [
    "#to avoi all the previus step you can run from here with an already processed dataset\n",
    "#df_3.to_csv(\"stemmed_tf_parsed_weather.csv\", encoding='utf-8', index=False)\n"
   ]
  },
  {
   "cell_type": "code",
   "execution_count": 99,
   "metadata": {},
   "outputs": [],
   "source": []
  },
  {
   "cell_type": "code",
   "execution_count": null,
   "metadata": {},
   "outputs": [],
   "source": []
  },
  {
   "cell_type": "code",
   "execution_count": 117,
   "metadata": {},
   "outputs": [
    {
     "data": {
      "text/html": [
       "<div>\n",
       "<style scoped>\n",
       "    .dataframe tbody tr th:only-of-type {\n",
       "        vertical-align: middle;\n",
       "    }\n",
       "\n",
       "    .dataframe tbody tr th {\n",
       "        vertical-align: top;\n",
       "    }\n",
       "\n",
       "    .dataframe thead th {\n",
       "        text-align: right;\n",
       "    }\n",
       "</style>\n",
       "<table border=\"1\" class=\"dataframe\">\n",
       "  <thead>\n",
       "    <tr style=\"text-align: right;\">\n",
       "      <th></th>\n",
       "      <th>vintage</th>\n",
       "      <th>country</th>\n",
       "      <th>description</th>\n",
       "      <th>points</th>\n",
       "      <th>price</th>\n",
       "      <th>province</th>\n",
       "      <th>taster_name</th>\n",
       "      <th>variety</th>\n",
       "      <th>winery</th>\n",
       "      <th>new_1</th>\n",
       "      <th>...</th>\n",
       "      <th>pr_5</th>\n",
       "      <th>pr_6</th>\n",
       "      <th>pr_7</th>\n",
       "      <th>pr_8</th>\n",
       "      <th>pr_9</th>\n",
       "      <th>tas_5</th>\n",
       "      <th>tas_6</th>\n",
       "      <th>tas_7</th>\n",
       "      <th>tas_8</th>\n",
       "      <th>tas_9</th>\n",
       "    </tr>\n",
       "  </thead>\n",
       "  <tbody>\n",
       "    <tr>\n",
       "      <th>0</th>\n",
       "      <td>1952</td>\n",
       "      <td>8</td>\n",
       "      <td>year ii oak deep oldgold color rich sweet wood...</td>\n",
       "      <td>95</td>\n",
       "      <td>499.0</td>\n",
       "      <td>164</td>\n",
       "      <td>13</td>\n",
       "      <td>376</td>\n",
       "      <td>10276</td>\n",
       "      <td>0.100000</td>\n",
       "      <td>...</td>\n",
       "      <td>120.181</td>\n",
       "      <td>54.8968</td>\n",
       "      <td>13.3656</td>\n",
       "      <td>12.3677</td>\n",
       "      <td>71.6485</td>\n",
       "      <td>16.0018</td>\n",
       "      <td>20.1771</td>\n",
       "      <td>21.6355</td>\n",
       "      <td>21.3967</td>\n",
       "      <td>18.5723</td>\n",
       "    </tr>\n",
       "    <tr>\n",
       "      <th>1</th>\n",
       "      <td>1952</td>\n",
       "      <td>8</td>\n",
       "      <td>astonish age rich toffe warm intens concentr d...</td>\n",
       "      <td>96</td>\n",
       "      <td>415.0</td>\n",
       "      <td>164</td>\n",
       "      <td>13</td>\n",
       "      <td>376</td>\n",
       "      <td>1703</td>\n",
       "      <td>0.052632</td>\n",
       "      <td>...</td>\n",
       "      <td>120.181</td>\n",
       "      <td>54.8968</td>\n",
       "      <td>13.3656</td>\n",
       "      <td>12.3677</td>\n",
       "      <td>71.6485</td>\n",
       "      <td>16.0018</td>\n",
       "      <td>20.1771</td>\n",
       "      <td>21.6355</td>\n",
       "      <td>21.3967</td>\n",
       "      <td>18.5723</td>\n",
       "    </tr>\n",
       "  </tbody>\n",
       "</table>\n",
       "<p>2 rows × 22 columns</p>\n",
       "</div>"
      ],
      "text/plain": [
       "   vintage  country                                        description  \\\n",
       "0     1952        8  year ii oak deep oldgold color rich sweet wood...   \n",
       "1     1952        8  astonish age rich toffe warm intens concentr d...   \n",
       "\n",
       "   points  price  province  taster_name  variety  winery     new_1   ...     \\\n",
       "0      95  499.0       164           13      376   10276  0.100000   ...      \n",
       "1      96  415.0       164           13      376    1703  0.052632   ...      \n",
       "\n",
       "      pr_5     pr_6     pr_7     pr_8     pr_9    tas_5    tas_6    tas_7  \\\n",
       "0  120.181  54.8968  13.3656  12.3677  71.6485  16.0018  20.1771  21.6355   \n",
       "1  120.181  54.8968  13.3656  12.3677  71.6485  16.0018  20.1771  21.6355   \n",
       "\n",
       "     tas_8    tas_9  \n",
       "0  21.3967  18.5723  \n",
       "1  21.3967  18.5723  \n",
       "\n",
       "[2 rows x 22 columns]"
      ]
     },
     "execution_count": 117,
     "metadata": {},
     "output_type": "execute_result"
    }
   ],
   "source": [
    "df_2.head(2)"
   ]
  },
  {
   "cell_type": "code",
   "execution_count": 120,
   "metadata": {},
   "outputs": [],
   "source": [
    "df_2.to_csv(\"FINAL_stem_tf_parsed_weather.csv\", encoding='utf-8', index=False)\n"
   ]
  },
  {
   "cell_type": "code",
   "execution_count": 172,
   "metadata": {},
   "outputs": [],
   "source": [
    "df_2 = pd.read_csv(\"FINAL_stem_tf_parsed_weather.csv\", index_col=0)\n"
   ]
  },
  {
   "cell_type": "code",
   "execution_count": 203,
   "metadata": {},
   "outputs": [],
   "source": [
    "# here you can select the colum that you want use for regression\n",
    "\n",
    "#some example\n",
    "#only normal atribute\n",
    "#features=['price','country','taster_name','winery','variety','province']\n",
    "#only wheter\n",
    "#features=['pr_5','pr_6','pr_7','pr_8','pr_9','tas_5','tas_6','tas_7','tas_8','tas_9']\n",
    "#only first value of most important tfidf\n",
    "#features=['new_1','new_2','new_3']\n",
    "#all\n",
    "features=['price','country','taster_name','winery','variety','province','new_1','new_2','new_3','pr_5','pr_6','pr_7','pr_8','pr_9','tas_5','tas_6','tas_7','tas_8','tas_9']\n"
   ]
  },
  {
   "cell_type": "code",
   "execution_count": 204,
   "metadata": {},
   "outputs": [],
   "source": [
    "X = df_2.loc[:,features]"
   ]
  },
  {
   "cell_type": "code",
   "execution_count": 205,
   "metadata": {},
   "outputs": [
    {
     "data": {
      "text/html": [
       "<div>\n",
       "<style scoped>\n",
       "    .dataframe tbody tr th:only-of-type {\n",
       "        vertical-align: middle;\n",
       "    }\n",
       "\n",
       "    .dataframe tbody tr th {\n",
       "        vertical-align: top;\n",
       "    }\n",
       "\n",
       "    .dataframe thead th {\n",
       "        text-align: right;\n",
       "    }\n",
       "</style>\n",
       "<table border=\"1\" class=\"dataframe\">\n",
       "  <thead>\n",
       "    <tr style=\"text-align: right;\">\n",
       "      <th></th>\n",
       "      <th>price</th>\n",
       "      <th>country</th>\n",
       "      <th>taster_name</th>\n",
       "      <th>winery</th>\n",
       "      <th>variety</th>\n",
       "      <th>province</th>\n",
       "      <th>new_1</th>\n",
       "      <th>new_2</th>\n",
       "      <th>new_3</th>\n",
       "      <th>pr_5</th>\n",
       "      <th>pr_6</th>\n",
       "      <th>pr_7</th>\n",
       "      <th>pr_8</th>\n",
       "      <th>pr_9</th>\n",
       "      <th>tas_5</th>\n",
       "      <th>tas_6</th>\n",
       "      <th>tas_7</th>\n",
       "      <th>tas_8</th>\n",
       "      <th>tas_9</th>\n",
       "    </tr>\n",
       "    <tr>\n",
       "      <th>vintage</th>\n",
       "      <th></th>\n",
       "      <th></th>\n",
       "      <th></th>\n",
       "      <th></th>\n",
       "      <th></th>\n",
       "      <th></th>\n",
       "      <th></th>\n",
       "      <th></th>\n",
       "      <th></th>\n",
       "      <th></th>\n",
       "      <th></th>\n",
       "      <th></th>\n",
       "      <th></th>\n",
       "      <th></th>\n",
       "      <th></th>\n",
       "      <th></th>\n",
       "      <th></th>\n",
       "      <th></th>\n",
       "      <th></th>\n",
       "    </tr>\n",
       "  </thead>\n",
       "  <tbody>\n",
       "    <tr>\n",
       "      <th>1952</th>\n",
       "      <td>499.0</td>\n",
       "      <td>8</td>\n",
       "      <td>13</td>\n",
       "      <td>10276</td>\n",
       "      <td>376</td>\n",
       "      <td>164</td>\n",
       "      <td>0.100000</td>\n",
       "      <td>0.100000</td>\n",
       "      <td>0.004785</td>\n",
       "      <td>120.1810</td>\n",
       "      <td>54.8968</td>\n",
       "      <td>13.36560</td>\n",
       "      <td>12.36770</td>\n",
       "      <td>71.6485</td>\n",
       "      <td>16.0018</td>\n",
       "      <td>20.1771</td>\n",
       "      <td>21.6355</td>\n",
       "      <td>21.3967</td>\n",
       "      <td>18.5723</td>\n",
       "    </tr>\n",
       "    <tr>\n",
       "      <th>1952</th>\n",
       "      <td>415.0</td>\n",
       "      <td>8</td>\n",
       "      <td>13</td>\n",
       "      <td>1703</td>\n",
       "      <td>376</td>\n",
       "      <td>164</td>\n",
       "      <td>0.052632</td>\n",
       "      <td>0.003597</td>\n",
       "      <td>0.001577</td>\n",
       "      <td>120.1810</td>\n",
       "      <td>54.8968</td>\n",
       "      <td>13.36560</td>\n",
       "      <td>12.36770</td>\n",
       "      <td>71.6485</td>\n",
       "      <td>16.0018</td>\n",
       "      <td>20.1771</td>\n",
       "      <td>21.6355</td>\n",
       "      <td>21.3967</td>\n",
       "      <td>18.5723</td>\n",
       "    </tr>\n",
       "    <tr>\n",
       "      <th>1957</th>\n",
       "      <td>375.0</td>\n",
       "      <td>8</td>\n",
       "      <td>13</td>\n",
       "      <td>8743</td>\n",
       "      <td>376</td>\n",
       "      <td>164</td>\n",
       "      <td>0.076923</td>\n",
       "      <td>0.027027</td>\n",
       "      <td>0.004785</td>\n",
       "      <td>92.0486</td>\n",
       "      <td>44.2920</td>\n",
       "      <td>6.72316</td>\n",
       "      <td>7.40562</td>\n",
       "      <td>49.3675</td>\n",
       "      <td>15.0959</td>\n",
       "      <td>18.7823</td>\n",
       "      <td>22.4479</td>\n",
       "      <td>22.4856</td>\n",
       "      <td>20.6839</td>\n",
       "    </tr>\n",
       "    <tr>\n",
       "      <th>1961</th>\n",
       "      <td>320.0</td>\n",
       "      <td>8</td>\n",
       "      <td>13</td>\n",
       "      <td>5078</td>\n",
       "      <td>376</td>\n",
       "      <td>164</td>\n",
       "      <td>0.100000</td>\n",
       "      <td>0.058824</td>\n",
       "      <td>0.003185</td>\n",
       "      <td>90.5883</td>\n",
       "      <td>43.2681</td>\n",
       "      <td>25.67690</td>\n",
       "      <td>2.98664</td>\n",
       "      <td>43.9189</td>\n",
       "      <td>18.0467</td>\n",
       "      <td>20.0059</td>\n",
       "      <td>21.9887</td>\n",
       "      <td>23.7509</td>\n",
       "      <td>20.2514</td>\n",
       "    </tr>\n",
       "    <tr>\n",
       "      <th>1963</th>\n",
       "      <td>467.0</td>\n",
       "      <td>8</td>\n",
       "      <td>17</td>\n",
       "      <td>6238</td>\n",
       "      <td>376</td>\n",
       "      <td>164</td>\n",
       "      <td>0.090909</td>\n",
       "      <td>0.005952</td>\n",
       "      <td>0.005917</td>\n",
       "      <td>38.1876</td>\n",
       "      <td>48.3052</td>\n",
       "      <td>3.52590</td>\n",
       "      <td>4.78859</td>\n",
       "      <td>29.1487</td>\n",
       "      <td>16.1193</td>\n",
       "      <td>18.4244</td>\n",
       "      <td>22.1413</td>\n",
       "      <td>20.8027</td>\n",
       "      <td>19.1788</td>\n",
       "    </tr>\n",
       "  </tbody>\n",
       "</table>\n",
       "</div>"
      ],
      "text/plain": [
       "         price  country  taster_name  winery  variety  province     new_1  \\\n",
       "vintage                                                                     \n",
       "1952     499.0        8           13   10276      376       164  0.100000   \n",
       "1952     415.0        8           13    1703      376       164  0.052632   \n",
       "1957     375.0        8           13    8743      376       164  0.076923   \n",
       "1961     320.0        8           13    5078      376       164  0.100000   \n",
       "1963     467.0        8           17    6238      376       164  0.090909   \n",
       "\n",
       "            new_2     new_3      pr_5     pr_6      pr_7      pr_8     pr_9  \\\n",
       "vintage                                                                       \n",
       "1952     0.100000  0.004785  120.1810  54.8968  13.36560  12.36770  71.6485   \n",
       "1952     0.003597  0.001577  120.1810  54.8968  13.36560  12.36770  71.6485   \n",
       "1957     0.027027  0.004785   92.0486  44.2920   6.72316   7.40562  49.3675   \n",
       "1961     0.058824  0.003185   90.5883  43.2681  25.67690   2.98664  43.9189   \n",
       "1963     0.005952  0.005917   38.1876  48.3052   3.52590   4.78859  29.1487   \n",
       "\n",
       "           tas_5    tas_6    tas_7    tas_8    tas_9  \n",
       "vintage                                               \n",
       "1952     16.0018  20.1771  21.6355  21.3967  18.5723  \n",
       "1952     16.0018  20.1771  21.6355  21.3967  18.5723  \n",
       "1957     15.0959  18.7823  22.4479  22.4856  20.6839  \n",
       "1961     18.0467  20.0059  21.9887  23.7509  20.2514  \n",
       "1963     16.1193  18.4244  22.1413  20.8027  19.1788  "
      ]
     },
     "execution_count": 205,
     "metadata": {},
     "output_type": "execute_result"
    }
   ],
   "source": [
    "X.head()"
   ]
  },
  {
   "cell_type": "code",
   "execution_count": 206,
   "metadata": {},
   "outputs": [],
   "source": [
    "Y=df_2['points'].values"
   ]
  },
  {
   "cell_type": "code",
   "execution_count": 207,
   "metadata": {},
   "outputs": [
    {
     "data": {
      "text/plain": [
       "array([95, 96, 95, ..., 91, 91, 91])"
      ]
     },
     "execution_count": 207,
     "metadata": {},
     "output_type": "execute_result"
    }
   ],
   "source": [
    "Y"
   ]
  },
  {
   "cell_type": "code",
   "execution_count": 208,
   "metadata": {},
   "outputs": [],
   "source": [
    "from sklearn.tree import DecisionTreeClassifier\n",
    "from sklearn.metrics import accuracy_score, make_scorer\n",
    "from sklearn.model_selection import train_test_split"
   ]
  },
  {
   "cell_type": "code",
   "execution_count": 209,
   "metadata": {},
   "outputs": [],
   "source": [
    "X_train, X_test, y_train, y_test = train_test_split(X, Y, test_size=0.20, random_state=42)\n"
   ]
  },
  {
   "cell_type": "code",
   "execution_count": null,
   "metadata": {},
   "outputs": [],
   "source": []
  },
  {
   "cell_type": "code",
   "execution_count": 210,
   "metadata": {},
   "outputs": [
    {
     "data": {
      "text/plain": [
       "LinearRegression(copy_X=True, fit_intercept=True, n_jobs=None,\n",
       "         normalize=False)"
      ]
     },
     "execution_count": 210,
     "metadata": {},
     "output_type": "execute_result"
    }
   ],
   "source": [
    "from sklearn.linear_model import LogisticRegression, LinearRegression\n",
    "from sklearn.model_selection import GridSearchCV\n",
    "from sklearn.metrics import explained_variance_score, mean_absolute_error, mean_squared_error\n",
    "\n",
    "liner_regressor_model = LinearRegression()\n",
    "liner_regressor_model.fit(X_train, y_train)\n"
   ]
  },
  {
   "cell_type": "code",
   "execution_count": 211,
   "metadata": {},
   "outputs": [],
   "source": [
    "\n",
    "predicted_points1 = liner_regressor_model.predict(X_test)\n"
   ]
  },
  {
   "cell_type": "code",
   "execution_count": 212,
   "metadata": {},
   "outputs": [
    {
     "data": {
      "text/plain": [
       "2.7784886036769576"
      ]
     },
     "execution_count": 212,
     "metadata": {},
     "output_type": "execute_result"
    }
   ],
   "source": [
    "mse= mean_squared_error(y_test, predicted_points1) # The best value is 0 \n",
    "rmse = np.sqrt(mse)\n",
    "rmse"
   ]
  },
  {
   "cell_type": "code",
   "execution_count": null,
   "metadata": {},
   "outputs": [],
   "source": [
    "# only basic information (price, reagion, etc) 2.8619646049545886\n",
    "# only wheater                                 3.0492362814311567\n",
    "# only tf top1, top2, top3                     3.068673813809192\n",
    "# all                                          2.7784886036769576                                      "
   ]
  },
  {
   "cell_type": "code",
   "execution_count": 169,
   "metadata": {},
   "outputs": [],
   "source": [
    "from sklearn.model_selection import KFold\n"
   ]
  },
  {
   "cell_type": "code",
   "execution_count": 170,
   "metadata": {},
   "outputs": [
    {
     "name": "stdout",
     "output_type": "stream",
     "text": [
      "      Score  Fold\n",
      "0  2.860110     1\n",
      "1  2.875554     2\n",
      "2  2.864090     3\n"
     ]
    }
   ],
   "source": [
    "kf = KFold(n_splits=3,random_state=42,shuffle=True)\n",
    "\n",
    "fold = []\n",
    "scr = []\n",
    "\n",
    "for i,(train_index, test_index) in enumerate(kf.split(df_2)):\n",
    "    training = df_2.iloc[train_index,:]\n",
    "    valid = df_2.iloc[test_index,:]\n",
    "    feats = training[features] #defined above\n",
    "    label = training['points']\n",
    "    valid_feats = valid[features]\n",
    "    valid_label = valid['points']\n",
    "    liner_regressor_model.fit(feats,label) #it is the last one we run, the best one\n",
    "    pred = liner_regressor_model.predict(valid_feats)\n",
    "    score = mean_squared_error(y_true = valid_label, y_pred = pred)\n",
    "    rmse = np.sqrt(score)\n",
    "    fold.append(i+1)\n",
    "    scr.append(rmse)\n",
    "    \n",
    "#create a small df with the scores\n",
    "performance = pd.DataFrame({'Score':scr,'Fold':fold})\n",
    "# let's see what we have with ggplot\n",
    "#g = ggplot(performance,aes(x='Fold',y='Score')) + geom_point() + geom_line()\n",
    "print(performance)\n"
   ]
  },
  {
   "cell_type": "code",
   "execution_count": null,
   "metadata": {},
   "outputs": [],
   "source": []
  },
  {
   "cell_type": "code",
   "execution_count": null,
   "metadata": {},
   "outputs": [],
   "source": []
  },
  {
   "cell_type": "code",
   "execution_count": null,
   "metadata": {},
   "outputs": [],
   "source": []
  },
  {
   "cell_type": "code",
   "execution_count": 157,
   "metadata": {},
   "outputs": [],
   "source": []
  },
  {
   "cell_type": "code",
   "execution_count": null,
   "metadata": {},
   "outputs": [],
   "source": []
  },
  {
   "cell_type": "code",
   "execution_count": null,
   "metadata": {},
   "outputs": [],
   "source": []
  }
 ],
 "metadata": {
  "kernelspec": {
   "display_name": "Python 3",
   "language": "python",
   "name": "python3"
  },
  "language_info": {
   "codemirror_mode": {
    "name": "ipython",
    "version": 3
   },
   "file_extension": ".py",
   "mimetype": "text/x-python",
   "name": "python",
   "nbconvert_exporter": "python",
   "pygments_lexer": "ipython3",
   "version": "3.6.5"
  }
 },
 "nbformat": 4,
 "nbformat_minor": 2
}
