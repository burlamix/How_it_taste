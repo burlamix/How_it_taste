{
 "cells": [
  {
   "cell_type": "code",
   "execution_count": 237,
   "metadata": {},
   "outputs": [],
   "source": [
    "import os\n",
    "import pandas as pd\n",
    "import numpy as np\n",
    "import matplotlib.pyplot as plt\n",
    "%matplotlib inline"
   ]
  },
  {
   "cell_type": "code",
   "execution_count": 238,
   "metadata": {},
   "outputs": [
    {
     "data": {
      "text/html": [
       "<div>\n",
       "<style scoped>\n",
       "    .dataframe tbody tr th:only-of-type {\n",
       "        vertical-align: middle;\n",
       "    }\n",
       "\n",
       "    .dataframe tbody tr th {\n",
       "        vertical-align: top;\n",
       "    }\n",
       "\n",
       "    .dataframe thead th {\n",
       "        text-align: right;\n",
       "    }\n",
       "</style>\n",
       "<table border=\"1\" class=\"dataframe\">\n",
       "  <thead>\n",
       "    <tr style=\"text-align: right;\">\n",
       "      <th></th>\n",
       "      <th>country</th>\n",
       "      <th>description</th>\n",
       "      <th>points</th>\n",
       "      <th>price</th>\n",
       "      <th>province</th>\n",
       "      <th>region_1</th>\n",
       "      <th>taster_name</th>\n",
       "      <th>variety</th>\n",
       "      <th>winery</th>\n",
       "      <th>similarityTop3WinesByVariety</th>\n",
       "      <th>pr_5</th>\n",
       "      <th>pr_6</th>\n",
       "      <th>pr_7</th>\n",
       "      <th>pr_8</th>\n",
       "      <th>pr_9</th>\n",
       "      <th>tas_5</th>\n",
       "      <th>tas_6</th>\n",
       "      <th>tas_7</th>\n",
       "      <th>tas_8</th>\n",
       "      <th>tas_9</th>\n",
       "    </tr>\n",
       "    <tr>\n",
       "      <th>vintage</th>\n",
       "      <th></th>\n",
       "      <th></th>\n",
       "      <th></th>\n",
       "      <th></th>\n",
       "      <th></th>\n",
       "      <th></th>\n",
       "      <th></th>\n",
       "      <th></th>\n",
       "      <th></th>\n",
       "      <th></th>\n",
       "      <th></th>\n",
       "      <th></th>\n",
       "      <th></th>\n",
       "      <th></th>\n",
       "      <th></th>\n",
       "      <th></th>\n",
       "      <th></th>\n",
       "      <th></th>\n",
       "      <th></th>\n",
       "      <th></th>\n",
       "    </tr>\n",
       "  </thead>\n",
       "  <tbody>\n",
       "    <tr>\n",
       "      <th>1952</th>\n",
       "      <td>8</td>\n",
       "      <td>Harvested the year a princess became Queen Eli...</td>\n",
       "      <td>95</td>\n",
       "      <td>499.0</td>\n",
       "      <td>164</td>\n",
       "      <td>1201</td>\n",
       "      <td>13</td>\n",
       "      <td>376</td>\n",
       "      <td>10276</td>\n",
       "      <td>0.821800</td>\n",
       "      <td>120.181</td>\n",
       "      <td>54.8968</td>\n",
       "      <td>13.3656</td>\n",
       "      <td>12.3677</td>\n",
       "      <td>71.6485</td>\n",
       "      <td>16.0018</td>\n",
       "      <td>20.1771</td>\n",
       "      <td>21.6355</td>\n",
       "      <td>21.3967</td>\n",
       "      <td>18.5723</td>\n",
       "    </tr>\n",
       "    <tr>\n",
       "      <th>1952</th>\n",
       "      <td>8</td>\n",
       "      <td>This is an astonishing wine for its age. It sh...</td>\n",
       "      <td>96</td>\n",
       "      <td>415.0</td>\n",
       "      <td>164</td>\n",
       "      <td>1201</td>\n",
       "      <td>13</td>\n",
       "      <td>376</td>\n",
       "      <td>1703</td>\n",
       "      <td>0.740839</td>\n",
       "      <td>120.181</td>\n",
       "      <td>54.8968</td>\n",
       "      <td>13.3656</td>\n",
       "      <td>12.3677</td>\n",
       "      <td>71.6485</td>\n",
       "      <td>16.0018</td>\n",
       "      <td>20.1771</td>\n",
       "      <td>21.6355</td>\n",
       "      <td>21.3967</td>\n",
       "      <td>18.5723</td>\n",
       "    </tr>\n",
       "  </tbody>\n",
       "</table>\n",
       "</div>"
      ],
      "text/plain": [
       "         country                                        description  points  \\\n",
       "vintage                                                                       \n",
       "1952           8  Harvested the year a princess became Queen Eli...      95   \n",
       "1952           8  This is an astonishing wine for its age. It sh...      96   \n",
       "\n",
       "         price  province  region_1  taster_name  variety  winery  \\\n",
       "vintage                                                            \n",
       "1952     499.0       164      1201           13      376   10276   \n",
       "1952     415.0       164      1201           13      376    1703   \n",
       "\n",
       "         similarityTop3WinesByVariety     pr_5     pr_6     pr_7     pr_8  \\\n",
       "vintage                                                                     \n",
       "1952                         0.821800  120.181  54.8968  13.3656  12.3677   \n",
       "1952                         0.740839  120.181  54.8968  13.3656  12.3677   \n",
       "\n",
       "            pr_9    tas_5    tas_6    tas_7    tas_8    tas_9  \n",
       "vintage                                                        \n",
       "1952     71.6485  16.0018  20.1771  21.6355  21.3967  18.5723  \n",
       "1952     71.6485  16.0018  20.1771  21.6355  21.3967  18.5723  "
      ]
     },
     "execution_count": 238,
     "metadata": {},
     "output_type": "execute_result"
    }
   ],
   "source": [
    "wine_base = pd.read_csv(\"2FINAL_tf_word2vect_parsed_weather.csv\", index_col=0)\n",
    "wine_base= wine_base.drop('title',axis=1)\n",
    "wine_base= wine_base.drop('designation',axis=1)\n",
    "wine_base= wine_base.drop('region_2',axis=1)\n",
    "wine_base.head(2)"
   ]
  },
  {
   "cell_type": "code",
   "execution_count": 239,
   "metadata": {},
   "outputs": [],
   "source": [
    "#remove stop words\n",
    "#stop = stopwords.words('english')\n",
    "#wine_base['description'] = wine_base['description'].apply(lambda x: [item for item in x if item not in stop])\n"
   ]
  },
  {
   "cell_type": "code",
   "execution_count": 240,
   "metadata": {},
   "outputs": [],
   "source": [
    "from sklearn.model_selection import train_test_split\n",
    "X = wine_base.drop(['points'], axis=1)\n",
    "Y = wine_base['points'].copy()\n",
    "\n",
    "X_train, X_test, y_train, y_test = train_test_split(X, Y, test_size=0.20, random_state=42)\n",
    "X_train= X_train.reset_index()"
   ]
  },
  {
   "cell_type": "code",
   "execution_count": 241,
   "metadata": {},
   "outputs": [
    {
     "name": "stdout",
     "output_type": "stream",
     "text": [
      "vocabulary size: 27812\n"
     ]
    }
   ],
   "source": [
    "from sklearn.feature_extraction.text import CountVectorizer, TfidfVectorizer\n",
    "\n",
    "if(False):\n",
    "    #basic count\n",
    "    #vect = CountVectorizer(tokenizer=custom_tokenizer, min_df=5)\n",
    "    vect = CountVectorizer(min_df=5)\n",
    "    vect.fit(X_train['description'])\n",
    "    print(\"vocabulary size: {}\".format(len(vect.vocabulary_)))\n",
    "    X_train_vectored = vect.transform(X_train['description'])\n",
    "else:\n",
    "    #tfidf\n",
    "    vect = TfidfVectorizer(smooth_idf=False, sublinear_tf=False, norm=None, analyzer='word')\n",
    "    vect.fit(X_train['description'])\n",
    "    print(\"vocabulary size: {}\".format(len(vect.vocabulary_)))\n",
    "    X_train_vectored = vect.transform(X_train['description'])\n",
    "\n",
    "\n"
   ]
  },
  {
   "cell_type": "code",
   "execution_count": 242,
   "metadata": {},
   "outputs": [],
   "source": [
    "list(X_train)\n",
    "X_train_vectored_fix=X_train_vectored"
   ]
  },
  {
   "cell_type": "code",
   "execution_count": 243,
   "metadata": {},
   "outputs": [],
   "source": [
    "from scipy.sparse import hstack\n",
    "# here you can select the colum that you want use for regression\n",
    "\n",
    "#some example\n",
    "#only normal atribute\n",
    "#features=['price','country','taster_name','winery','variety','province']\n",
    "#only wheter\n",
    "#features=[]\n",
    "#basic + weather\n",
    "#features=['price','country','taster_name','winery','variety','province','pr_5','pr_6','pr_7','pr_8','pr_9','tas_5','tas_6','tas_7','tas_8','tas_9']\n",
    "#basic + word2vect\n",
    "features=['price','country','taster_name','winery','variety','province','similarityTop3WinesByVariety']\n",
    "\n",
    "\n",
    "\n",
    "#all\n",
    "#features=['price','country','taster_name','winery','variety','province','pr_5','pr_6','pr_7','pr_8','pr_9','tas_5','tas_6','tas_7','tas_8','tas_9','similarityTop3WinesByVariety']\n"
   ]
  },
  {
   "cell_type": "code",
   "execution_count": 244,
   "metadata": {},
   "outputs": [],
   "source": [
    "X_train_vectored = X_train_vectored_fix"
   ]
  },
  {
   "cell_type": "code",
   "execution_count": null,
   "metadata": {},
   "outputs": [],
   "source": []
  },
  {
   "cell_type": "code",
   "execution_count": null,
   "metadata": {},
   "outputs": [],
   "source": []
  },
  {
   "cell_type": "code",
   "execution_count": 245,
   "metadata": {},
   "outputs": [],
   "source": [
    "for feature in features:\n",
    "    X_train_vectored = hstack((X_train_vectored,np.array(X_train[feature])[:,None]))"
   ]
  },
  {
   "cell_type": "code",
   "execution_count": 247,
   "metadata": {},
   "outputs": [
    {
     "data": {
      "text/plain": [
       "LinearRegression(copy_X=True, fit_intercept=True, n_jobs=None,\n",
       "         normalize=False)"
      ]
     },
     "execution_count": 247,
     "metadata": {},
     "output_type": "execute_result"
    }
   ],
   "source": [
    "from sklearn.linear_model import LogisticRegression, LinearRegression\n",
    "from sklearn.model_selection import GridSearchCV\n",
    "\n",
    "lr = LinearRegression()\n",
    "lr.fit(X_train_vectored, y_train)\n"
   ]
  },
  {
   "cell_type": "code",
   "execution_count": 248,
   "metadata": {},
   "outputs": [
    {
     "data": {
      "text/plain": [
       "1.3148676605862257"
      ]
     },
     "execution_count": 248,
     "metadata": {},
     "output_type": "execute_result"
    }
   ],
   "source": [
    "from sklearn.metrics import mean_squared_error\n",
    "y_pred = lr.predict(X_train_vectored)\n",
    "mse = mean_squared_error(y_train, y_pred)\n",
    "rmse = np.sqrt(mse)\n",
    "rmse"
   ]
  },
  {
   "cell_type": "code",
   "execution_count": null,
   "metadata": {},
   "outputs": [],
   "source": []
  },
  {
   "cell_type": "code",
   "execution_count": null,
   "metadata": {},
   "outputs": [],
   "source": []
  },
  {
   "cell_type": "code",
   "execution_count": null,
   "metadata": {},
   "outputs": [],
   "source": []
  },
  {
   "cell_type": "code",
   "execution_count": null,
   "metadata": {},
   "outputs": [],
   "source": []
  },
  {
   "cell_type": "code",
   "execution_count": 249,
   "metadata": {},
   "outputs": [
    {
     "data": {
      "text/plain": [
       "1.935601579764747"
      ]
     },
     "execution_count": 249,
     "metadata": {},
     "output_type": "execute_result"
    }
   ],
   "source": [
    "X_test_vectored = vect.transform(X_test['description'])\n",
    "for feature in features:\n",
    "    X_test_vectored = hstack((X_test_vectored,np.array(X_test[feature])[:,None]))\n",
    "\n",
    "y_test_pred = lr.predict(X_test_vectored)\n",
    "mse = mean_squared_error(y_test, y_test_pred)\n",
    "rmse = np.sqrt(mse)\n",
    "rmse"
   ]
  },
  {
   "cell_type": "code",
   "execution_count": 174,
   "metadata": {},
   "outputs": [],
   "source": [
    "\n",
    "#basic + weather + word2vect            2.656514648561906\n",
    "#tfidf + basic                          1.994951521463346\n",
    "#tfidf + basic + weather                1.9614767754932028\n",
    "#tfidf + basic + word2vect              1.935601579764747\n",
    "#tfidf + basic + weather + word2vect    1.9310165836291333\n"
   ]
  },
  {
   "cell_type": "code",
   "execution_count": null,
   "metadata": {},
   "outputs": [],
   "source": []
  },
  {
   "cell_type": "code",
   "execution_count": null,
   "metadata": {},
   "outputs": [],
   "source": []
  },
  {
   "cell_type": "code",
   "execution_count": 175,
   "metadata": {},
   "outputs": [],
   "source": [
    "#old\n",
    "#score with CountVectorizer from sklearn    2.0357144478784193\n",
    "#score with tfidf from sklearn              2.035640244548046\n",
    "\n",
    "\n",
    "# only basic information (price, reagion, etc) 2.8619646049545886\n",
    "# only wheater                                 3.0492362814311567\n",
    "# only tf top1, top2, top3                     3.068673813809192\n",
    "# all                                          2.7784886036769576 "
   ]
  },
  {
   "cell_type": "code",
   "execution_count": null,
   "metadata": {},
   "outputs": [],
   "source": []
  }
 ],
 "metadata": {
  "kernelspec": {
   "display_name": "Python 3",
   "language": "python",
   "name": "python3"
  },
  "language_info": {
   "codemirror_mode": {
    "name": "ipython",
    "version": 3
   },
   "file_extension": ".py",
   "mimetype": "text/x-python",
   "name": "python",
   "nbconvert_exporter": "python",
   "pygments_lexer": "ipython3",
   "version": "3.6.5"
  }
 },
 "nbformat": 4,
 "nbformat_minor": 2
}
