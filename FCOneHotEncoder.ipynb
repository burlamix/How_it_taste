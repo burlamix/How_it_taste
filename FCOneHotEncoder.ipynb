{
 "cells": [
  {
   "cell_type": "code",
   "execution_count": null,
   "metadata": {},
   "outputs": [],
   "source": [
    "%matplotlib inline\n",
    "import numpy as np\n",
    "import pandas as pd \n",
    "import scipy as sp\n",
    "import sklearn as sk # data mining tools\n",
    "import warnings\n",
    "from sklearn.preprocessing import OneHotEncoder\n",
    "import time\n",
    "warnings.filterwarnings(\"ignore\")"
   ]
  },
  {
   "cell_type": "code",
   "execution_count": null,
   "metadata": {},
   "outputs": [],
   "source": [
    "dataframe = pd.read_csv(\"winemag-data-130k-v2.csv\") #Insert whatever dataframe you have!"
   ]
  },
  {
   "cell_type": "markdown",
   "metadata": {},
   "source": [
    "# Beware!!!! The column you want to encode MUST BE WITHOUT MISSING OR NULL VALUES!!! -> otherwise the function get stuck!"
   ]
  },
  {
   "cell_type": "markdown",
   "metadata": {},
   "source": [
    "### Inputs of the function:\n",
    "-dataframe = the dataframe you want to use (already loaded on the notebook)\n",
    "-column_to encode= a string with the name of the column you want to encode\n",
    "-take_whole_dataset= boolean (default = True)\n",
    "                    if True:\n",
    "                    the function will return your whole dataset plus the columns associated to the encoding\n",
    "                    if False:\n",
    "                    the function will return a new dataset with the column to encode as first and then all the columns encoded\n",
    "                    [Use False only to see in advance if everyting is working as predicted]\n",
    "# Enjoy it!"
   ]
  },
  {
   "cell_type": "code",
   "execution_count": null,
   "metadata": {},
   "outputs": [],
   "source": [
    "def OneHotEncode(dataframe,column_to_encode,take_whole_dataset=True):\n",
    "    enc = OneHotEncoder(handle_unknown='ignore')\n",
    "    enc.fit(dataframe[[column_to_encode]])\n",
    "    mapping = {}\n",
    "    i=0\n",
    "    for elem in enc.categories_[0]:\n",
    "        mapping[elem]=i\n",
    "        i+=1\n",
    "    resu = enc.transform(dataframe[[column_to_encode]]).toarray()\n",
    "    if take_whole_dataset:\n",
    "        for elem in mapping:\n",
    "            dataframe[elem]=resu[:,mapping[elem]]\n",
    "        return dataframe\n",
    "    else:\n",
    "        subset = dataframe[[column_to_encode]]\n",
    "        for elem in mapping:\n",
    "            subset[elem]=resu[:,mapping[elem]]\n",
    "        return subset\n",
    "        "
   ]
  },
  {
   "cell_type": "code",
   "execution_count": null,
   "metadata": {},
   "outputs": [],
   "source": [
    "start = time.time()\n",
    "df_encoded_one_column = OneHotEncode(dataframe,'country',False)\n",
    "end = time.time()\n",
    "print('It tooks just '+ str(end-start)+' seconds to run!!!')"
   ]
  },
  {
   "cell_type": "code",
   "execution_count": null,
   "metadata": {},
   "outputs": [],
   "source": [
    "df_encoded_one_column"
   ]
  },
  {
   "cell_type": "code",
   "execution_count": null,
   "metadata": {},
   "outputs": [],
   "source": [
    "start = time.time()\n",
    "df_encoded_all = OneHotEncode(dataframe,'country')\n",
    "end = time.time()\n",
    "print('It tooks just '+ str(end-start)+' seconds to run!!!')"
   ]
  },
  {
   "cell_type": "code",
   "execution_count": null,
   "metadata": {},
   "outputs": [],
   "source": [
    "df_encoded_all"
   ]
  },
  {
   "cell_type": "code",
   "execution_count": null,
   "metadata": {},
   "outputs": [],
   "source": []
  }
 ],
 "metadata": {
  "kernelspec": {
   "display_name": "Python 3",
   "language": "python",
   "name": "python3"
  },
  "language_info": {
   "codemirror_mode": {
    "name": "ipython",
    "version": 3
   },
   "file_extension": ".py",
   "mimetype": "text/x-python",
   "name": "python",
   "nbconvert_exporter": "python",
   "pygments_lexer": "ipython3",
   "version": "3.6.4"
  }
 },
 "nbformat": 4,
 "nbformat_minor": 2
}
